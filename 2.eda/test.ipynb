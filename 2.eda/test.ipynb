{
 "cells": [
  {
   "cell_type": "code",
   "execution_count": 1,
   "metadata": {},
   "outputs": [],
   "source": [
    "import pandas as pd"
   ]
  },
  {
   "cell_type": "code",
   "execution_count": 4,
   "metadata": {},
   "outputs": [],
   "source": [
    "data=pd.read_csv(\"/Users/joaoalmeida/Downloads/breast+cancer+wisconsin+diagnostic/wdbc.data\",header=None)"
   ]
  },
  {
   "cell_type": "code",
   "execution_count": 6,
   "metadata": {},
   "outputs": [],
   "source": [
    "data.to_csv(\"../breast-cancer.csv\")"
   ]
  },
  {
   "cell_type": "code",
   "execution_count": null,
   "metadata": {},
   "outputs": [],
   "source": [
    "data.columns=[\"ID\",\n",
    "\"Diagnosis\",\n",
    "\"radius1\",\n",
    "\"texture1\",\n",
    "\"perimeter1\",\n",
    "\"area1\",\n",
    "\"smoothness1\",\n",
    "\"compactness1\",\n",
    "\"concavity1\",\n",
    "\"concave_points1\",\n",
    "\"symmetry1\",\n",
    "\"fractal_dimension1\",\n",
    "\"radius2\",\n",
    "\"texture2\",\n",
    "\"perimeter2\",\n",
    "\"area2\",\n",
    "\"smoothness2\",\n",
    "\"compactness2\",\n",
    "\"concavity2\",\n",
    "\"concave_points2\",\n",
    "\"symmetry2\",\n",
    "\"fractal_dimension2\",\n",
    "\"radius3\",\n",
    "\"texture3\",\n",
    "\"perimeter3\",\n",
    "\"area3\",\n",
    "\"smoothness3\",\n",
    "\"compactness3\",\n",
    "\"concavity3\",\n",
    "\"concave_points3\",\n",
    "\"symmetry3\",\n",
    "\"fractal_dimension3\"]"
   ]
  }
 ],
 "metadata": {
  "kernelspec": {
   "display_name": "xai",
   "language": "python",
   "name": "python3"
  },
  "language_info": {
   "codemirror_mode": {
    "name": "ipython",
    "version": 3
   },
   "file_extension": ".py",
   "mimetype": "text/x-python",
   "name": "python",
   "nbconvert_exporter": "python",
   "pygments_lexer": "ipython3",
   "version": "3.10.12"
  },
  "orig_nbformat": 4
 },
 "nbformat": 4,
 "nbformat_minor": 2
}
