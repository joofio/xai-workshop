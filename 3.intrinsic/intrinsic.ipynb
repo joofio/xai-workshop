{
 "cells": [
  {
   "cell_type": "code",
   "execution_count": 111,
   "metadata": {},
   "outputs": [
    {
     "data": {
      "text/html": [
       "<div>\n",
       "<style scoped>\n",
       "    .dataframe tbody tr th:only-of-type {\n",
       "        vertical-align: middle;\n",
       "    }\n",
       "\n",
       "    .dataframe tbody tr th {\n",
       "        vertical-align: top;\n",
       "    }\n",
       "\n",
       "    .dataframe thead th {\n",
       "        text-align: right;\n",
       "    }\n",
       "</style>\n",
       "<table border=\"1\" class=\"dataframe\">\n",
       "  <thead>\n",
       "    <tr style=\"text-align: right;\">\n",
       "      <th></th>\n",
       "      <th>Pregnancies</th>\n",
       "      <th>Glucose</th>\n",
       "      <th>BloodPressure</th>\n",
       "      <th>SkinThickness</th>\n",
       "      <th>Insulin</th>\n",
       "      <th>BMI</th>\n",
       "      <th>DiabetesPedigreeFunction</th>\n",
       "      <th>Age</th>\n",
       "      <th>Outcome</th>\n",
       "    </tr>\n",
       "  </thead>\n",
       "  <tbody>\n",
       "    <tr>\n",
       "      <th>0</th>\n",
       "      <td>6</td>\n",
       "      <td>148</td>\n",
       "      <td>72</td>\n",
       "      <td>35</td>\n",
       "      <td>0</td>\n",
       "      <td>33.6</td>\n",
       "      <td>0.627</td>\n",
       "      <td>50</td>\n",
       "      <td>1</td>\n",
       "    </tr>\n",
       "    <tr>\n",
       "      <th>1</th>\n",
       "      <td>1</td>\n",
       "      <td>85</td>\n",
       "      <td>66</td>\n",
       "      <td>29</td>\n",
       "      <td>0</td>\n",
       "      <td>26.6</td>\n",
       "      <td>0.351</td>\n",
       "      <td>31</td>\n",
       "      <td>0</td>\n",
       "    </tr>\n",
       "    <tr>\n",
       "      <th>2</th>\n",
       "      <td>8</td>\n",
       "      <td>183</td>\n",
       "      <td>64</td>\n",
       "      <td>0</td>\n",
       "      <td>0</td>\n",
       "      <td>23.3</td>\n",
       "      <td>0.672</td>\n",
       "      <td>32</td>\n",
       "      <td>1</td>\n",
       "    </tr>\n",
       "    <tr>\n",
       "      <th>3</th>\n",
       "      <td>1</td>\n",
       "      <td>89</td>\n",
       "      <td>66</td>\n",
       "      <td>23</td>\n",
       "      <td>94</td>\n",
       "      <td>28.1</td>\n",
       "      <td>0.167</td>\n",
       "      <td>21</td>\n",
       "      <td>0</td>\n",
       "    </tr>\n",
       "    <tr>\n",
       "      <th>4</th>\n",
       "      <td>0</td>\n",
       "      <td>137</td>\n",
       "      <td>40</td>\n",
       "      <td>35</td>\n",
       "      <td>168</td>\n",
       "      <td>43.1</td>\n",
       "      <td>2.288</td>\n",
       "      <td>33</td>\n",
       "      <td>1</td>\n",
       "    </tr>\n",
       "  </tbody>\n",
       "</table>\n",
       "</div>"
      ],
      "text/plain": [
       "   Pregnancies  Glucose  BloodPressure  SkinThickness  Insulin   BMI  \\\n",
       "0            6      148             72             35        0  33.6   \n",
       "1            1       85             66             29        0  26.6   \n",
       "2            8      183             64              0        0  23.3   \n",
       "3            1       89             66             23       94  28.1   \n",
       "4            0      137             40             35      168  43.1   \n",
       "\n",
       "   DiabetesPedigreeFunction  Age  Outcome  \n",
       "0                     0.627   50        1  \n",
       "1                     0.351   31        0  \n",
       "2                     0.672   32        1  \n",
       "3                     0.167   21        0  \n",
       "4                     2.288   33        1  "
      ]
     },
     "execution_count": 111,
     "metadata": {},
     "output_type": "execute_result"
    }
   ],
   "source": [
    "#Load the required libraries\n",
    "import pandas as pd\n",
    "import numpy as np\n",
    "import seaborn as sns\n",
    "import matplotlib.pyplot as plt\n",
    "import statsmodels.api as sm\n",
    "import numpy as np\n",
    "from sklearn.model_selection import train_test_split\n",
    "\n",
    "#Load the data\n",
    "df=pd.read_csv(\"../diabetes.csv\")\n",
    "\n",
    "#View the data\n",
    "df.head()"
   ]
  },
  {
   "cell_type": "code",
   "execution_count": 112,
   "metadata": {},
   "outputs": [
    {
     "data": {
      "text/plain": [
       "0    400\n",
       "1    214\n",
       "Name: Outcome, dtype: int64"
      ]
     },
     "metadata": {},
     "output_type": "display_data"
    },
    {
     "data": {
      "text/plain": [
       "0    100\n",
       "1     54\n",
       "Name: Outcome, dtype: int64"
      ]
     },
     "metadata": {},
     "output_type": "display_data"
    }
   ],
   "source": [
    "#categorical outcome\n",
    "train,test = train_test_split(df, test_size=0.2, random_state=42,stratify=df[\"Outcome\"])\n",
    "\n",
    "display(train[\"Outcome\"].value_counts())\n",
    "display(test[\"Outcome\"].value_counts())\n",
    "Y = train['Outcome']\n",
    "X = train.iloc[:,0:-1]"
   ]
  },
  {
   "cell_type": "code",
   "execution_count": 113,
   "metadata": {},
   "outputs": [],
   "source": [
    "#continuous outcome\n",
    "df2=pd.read_csv(\"../insurance.csv\")\n",
    "dummy=pd.get_dummies(df2[['region',\"sex\",\"smoker\"]], drop_first=False)\n",
    "df2_dummy=pd.concat((df2.drop(columns=['region',\"sex\",\"smoker\"]),dummy),axis=1)\n",
    "train2,test2 = train_test_split(df2_dummy, test_size=0.2, random_state=42)\n",
    "Y2 = train2['charges']\n",
    "X2 = train2.drop(columns=\"charges\")"
   ]
  },
  {
   "cell_type": "code",
   "execution_count": 114,
   "metadata": {},
   "outputs": [
    {
     "name": "stdout",
     "output_type": "stream",
     "text": [
      "Optimization terminated successfully.\n",
      "         Current function value: 0.610746\n",
      "         Iterations 5\n"
     ]
    }
   ],
   "source": [
    "model = sm.Logit(Y,X)\n",
    "results = model.fit()"
   ]
  },
  {
   "cell_type": "code",
   "execution_count": 115,
   "metadata": {},
   "outputs": [
    {
     "data": {
      "text/plain": [
       "Pregnancies                 0.107076\n",
       "Glucose                     0.013060\n",
       "BloodPressure              -0.031346\n",
       "SkinThickness              -0.000637\n",
       "Insulin                     0.001291\n",
       "BMI                        -0.001747\n",
       "DiabetesPedigreeFunction    0.175677\n",
       "Age                        -0.012715\n",
       "dtype: float64"
      ]
     },
     "execution_count": 115,
     "metadata": {},
     "output_type": "execute_result"
    }
   ],
   "source": [
    "results.params"
   ]
  },
  {
   "cell_type": "code",
   "execution_count": 116,
   "metadata": {},
   "outputs": [
    {
     "data": {
      "text/html": [
       "<table class=\"simpletable\">\n",
       "<caption>Logit Regression Results</caption>\n",
       "<tr>\n",
       "  <th>Dep. Variable:</th>        <td>Outcome</td>     <th>  No. Observations:  </th>  <td>   614</td>  \n",
       "</tr>\n",
       "<tr>\n",
       "  <th>Model:</th>                 <td>Logit</td>      <th>  Df Residuals:      </th>  <td>   606</td>  \n",
       "</tr>\n",
       "<tr>\n",
       "  <th>Method:</th>                 <td>MLE</td>       <th>  Df Model:          </th>  <td>     7</td>  \n",
       "</tr>\n",
       "<tr>\n",
       "  <th>Date:</th>            <td>Fri, 07 Jul 2023</td> <th>  Pseudo R-squ.:     </th>  <td>0.05535</td> \n",
       "</tr>\n",
       "<tr>\n",
       "  <th>Time:</th>                <td>11:32:02</td>     <th>  Log-Likelihood:    </th> <td> -375.00</td> \n",
       "</tr>\n",
       "<tr>\n",
       "  <th>converged:</th>             <td>True</td>       <th>  LL-Null:           </th> <td> -396.97</td> \n",
       "</tr>\n",
       "<tr>\n",
       "  <th>Covariance Type:</th>     <td>nonrobust</td>    <th>  LLR p-value:       </th> <td>2.186e-07</td>\n",
       "</tr>\n",
       "</table>\n",
       "<table class=\"simpletable\">\n",
       "<tr>\n",
       "              <td></td>                <th>coef</th>     <th>std err</th>      <th>z</th>      <th>P>|z|</th>  <th>[0.025</th>    <th>0.975]</th>  \n",
       "</tr>\n",
       "<tr>\n",
       "  <th>Pregnancies</th>              <td>    0.1071</td> <td>    0.032</td> <td>    3.330</td> <td> 0.001</td> <td>    0.044</td> <td>    0.170</td>\n",
       "</tr>\n",
       "<tr>\n",
       "  <th>Glucose</th>                  <td>    0.0131</td> <td>    0.003</td> <td>    4.221</td> <td> 0.000</td> <td>    0.007</td> <td>    0.019</td>\n",
       "</tr>\n",
       "<tr>\n",
       "  <th>BloodPressure</th>            <td>   -0.0313</td> <td>    0.005</td> <td>   -5.799</td> <td> 0.000</td> <td>   -0.042</td> <td>   -0.021</td>\n",
       "</tr>\n",
       "<tr>\n",
       "  <th>SkinThickness</th>            <td>   -0.0006</td> <td>    0.007</td> <td>   -0.093</td> <td> 0.926</td> <td>   -0.014</td> <td>    0.013</td>\n",
       "</tr>\n",
       "<tr>\n",
       "  <th>Insulin</th>                  <td>    0.0013</td> <td>    0.001</td> <td>    1.316</td> <td> 0.188</td> <td>   -0.001</td> <td>    0.003</td>\n",
       "</tr>\n",
       "<tr>\n",
       "  <th>BMI</th>                      <td>   -0.0017</td> <td>    0.012</td> <td>   -0.145</td> <td> 0.884</td> <td>   -0.025</td> <td>    0.022</td>\n",
       "</tr>\n",
       "<tr>\n",
       "  <th>DiabetesPedigreeFunction</th> <td>    0.1757</td> <td>    0.272</td> <td>    0.645</td> <td> 0.519</td> <td>   -0.358</td> <td>    0.709</td>\n",
       "</tr>\n",
       "<tr>\n",
       "  <th>Age</th>                      <td>   -0.0127</td> <td>    0.009</td> <td>   -1.368</td> <td> 0.171</td> <td>   -0.031</td> <td>    0.005</td>\n",
       "</tr>\n",
       "</table>"
      ],
      "text/plain": [
       "<class 'statsmodels.iolib.summary.Summary'>\n",
       "\"\"\"\n",
       "                           Logit Regression Results                           \n",
       "==============================================================================\n",
       "Dep. Variable:                Outcome   No. Observations:                  614\n",
       "Model:                          Logit   Df Residuals:                      606\n",
       "Method:                           MLE   Df Model:                            7\n",
       "Date:                Fri, 07 Jul 2023   Pseudo R-squ.:                 0.05535\n",
       "Time:                        11:32:02   Log-Likelihood:                -375.00\n",
       "converged:                       True   LL-Null:                       -396.97\n",
       "Covariance Type:            nonrobust   LLR p-value:                 2.186e-07\n",
       "============================================================================================\n",
       "                               coef    std err          z      P>|z|      [0.025      0.975]\n",
       "--------------------------------------------------------------------------------------------\n",
       "Pregnancies                  0.1071      0.032      3.330      0.001       0.044       0.170\n",
       "Glucose                      0.0131      0.003      4.221      0.000       0.007       0.019\n",
       "BloodPressure               -0.0313      0.005     -5.799      0.000      -0.042      -0.021\n",
       "SkinThickness               -0.0006      0.007     -0.093      0.926      -0.014       0.013\n",
       "Insulin                      0.0013      0.001      1.316      0.188      -0.001       0.003\n",
       "BMI                         -0.0017      0.012     -0.145      0.884      -0.025       0.022\n",
       "DiabetesPedigreeFunction     0.1757      0.272      0.645      0.519      -0.358       0.709\n",
       "Age                         -0.0127      0.009     -1.368      0.171      -0.031       0.005\n",
       "============================================================================================\n",
       "\"\"\""
      ]
     },
     "execution_count": 116,
     "metadata": {},
     "output_type": "execute_result"
    }
   ],
   "source": [
    "results.summary()"
   ]
  },
  {
   "cell_type": "code",
   "execution_count": 117,
   "metadata": {},
   "outputs": [
    {
     "data": {
      "text/plain": [
       "const                -255.349206\n",
       "age                   256.975706\n",
       "bmi                   337.092552\n",
       "children              425.278784\n",
       "region_northeast      395.747943\n",
       "region_northwest       25.070617\n",
       "region_southeast     -262.116354\n",
       "region_southwest     -414.051411\n",
       "sex_female           -118.378757\n",
       "sex_male             -136.970449\n",
       "smoker_no          -11953.239031\n",
       "smoker_yes          11697.889825\n",
       "dtype: float64"
      ]
     },
     "execution_count": 117,
     "metadata": {},
     "output_type": "execute_result"
    }
   ],
   "source": [
    "X2 = sm.add_constant(X2)\n",
    "model = sm.OLS(Y2,X2)\n",
    "results = model.fit()\n",
    "results.params"
   ]
  },
  {
   "cell_type": "code",
   "execution_count": 118,
   "metadata": {},
   "outputs": [
    {
     "data": {
      "text/html": [
       "<table class=\"simpletable\">\n",
       "<caption>OLS Regression Results</caption>\n",
       "<tr>\n",
       "  <th>Dep. Variable:</th>         <td>charges</td>     <th>  R-squared:         </th> <td>   0.742</td> \n",
       "</tr>\n",
       "<tr>\n",
       "  <th>Model:</th>                   <td>OLS</td>       <th>  Adj. R-squared:    </th> <td>   0.740</td> \n",
       "</tr>\n",
       "<tr>\n",
       "  <th>Method:</th>             <td>Least Squares</td>  <th>  F-statistic:       </th> <td>   380.9</td> \n",
       "</tr>\n",
       "<tr>\n",
       "  <th>Date:</th>             <td>Fri, 07 Jul 2023</td> <th>  Prob (F-statistic):</th> <td>1.32e-305</td>\n",
       "</tr>\n",
       "<tr>\n",
       "  <th>Time:</th>                 <td>11:32:03</td>     <th>  Log-Likelihood:    </th> <td> -10845.</td> \n",
       "</tr>\n",
       "<tr>\n",
       "  <th>No. Observations:</th>      <td>  1070</td>      <th>  AIC:               </th> <td>2.171e+04</td>\n",
       "</tr>\n",
       "<tr>\n",
       "  <th>Df Residuals:</th>          <td>  1061</td>      <th>  BIC:               </th> <td>2.175e+04</td>\n",
       "</tr>\n",
       "<tr>\n",
       "  <th>Df Model:</th>              <td>     8</td>      <th>                     </th>     <td> </td>    \n",
       "</tr>\n",
       "<tr>\n",
       "  <th>Covariance Type:</th>      <td>nonrobust</td>    <th>                     </th>     <td> </td>    \n",
       "</tr>\n",
       "</table>\n",
       "<table class=\"simpletable\">\n",
       "<tr>\n",
       "          <td></td>            <th>coef</th>     <th>std err</th>      <th>t</th>      <th>P>|t|</th>  <th>[0.025</th>    <th>0.975]</th>  \n",
       "</tr>\n",
       "<tr>\n",
       "  <th>const</th>            <td> -255.3492</td> <td>  486.430</td> <td>   -0.525</td> <td> 0.600</td> <td>-1209.824</td> <td>  699.125</td>\n",
       "</tr>\n",
       "<tr>\n",
       "  <th>age</th>              <td>  256.9757</td> <td>   13.477</td> <td>   19.067</td> <td> 0.000</td> <td>  230.530</td> <td>  283.421</td>\n",
       "</tr>\n",
       "<tr>\n",
       "  <th>bmi</th>              <td>  337.0926</td> <td>   32.471</td> <td>   10.381</td> <td> 0.000</td> <td>  273.378</td> <td>  400.807</td>\n",
       "</tr>\n",
       "<tr>\n",
       "  <th>children</th>         <td>  425.2788</td> <td>  154.655</td> <td>    2.750</td> <td> 0.006</td> <td>  121.814</td> <td>  728.743</td>\n",
       "</tr>\n",
       "<tr>\n",
       "  <th>region_northeast</th> <td>  395.7479</td> <td>  334.472</td> <td>    1.183</td> <td> 0.237</td> <td> -260.555</td> <td> 1052.051</td>\n",
       "</tr>\n",
       "<tr>\n",
       "  <th>region_northwest</th> <td>   25.0706</td> <td>  344.485</td> <td>    0.073</td> <td> 0.942</td> <td> -650.878</td> <td>  701.019</td>\n",
       "</tr>\n",
       "<tr>\n",
       "  <th>region_southeast</th> <td> -262.1164</td> <td>  373.002</td> <td>   -0.703</td> <td> 0.482</td> <td> -994.022</td> <td>  469.789</td>\n",
       "</tr>\n",
       "<tr>\n",
       "  <th>region_southwest</th> <td> -414.0514</td> <td>  351.224</td> <td>   -1.179</td> <td> 0.239</td> <td>-1103.225</td> <td>  275.122</td>\n",
       "</tr>\n",
       "<tr>\n",
       "  <th>sex_female</th>       <td> -118.3788</td> <td>  306.741</td> <td>   -0.386</td> <td> 0.700</td> <td> -720.266</td> <td>  483.509</td>\n",
       "</tr>\n",
       "<tr>\n",
       "  <th>sex_male</th>         <td> -136.9704</td> <td>  308.173</td> <td>   -0.444</td> <td> 0.657</td> <td> -741.669</td> <td>  467.728</td>\n",
       "</tr>\n",
       "<tr>\n",
       "  <th>smoker_no</th>        <td>-1.195e+04</td> <td>  320.386</td> <td>  -37.309</td> <td> 0.000</td> <td>-1.26e+04</td> <td>-1.13e+04</td>\n",
       "</tr>\n",
       "<tr>\n",
       "  <th>smoker_yes</th>       <td>  1.17e+04</td> <td>  352.808</td> <td>   33.157</td> <td> 0.000</td> <td>  1.1e+04</td> <td> 1.24e+04</td>\n",
       "</tr>\n",
       "</table>\n",
       "<table class=\"simpletable\">\n",
       "<tr>\n",
       "  <th>Omnibus:</th>       <td>252.330</td> <th>  Durbin-Watson:     </th> <td>   2.085</td> \n",
       "</tr>\n",
       "<tr>\n",
       "  <th>Prob(Omnibus):</th> <td> 0.000</td>  <th>  Jarque-Bera (JB):  </th> <td> 613.798</td> \n",
       "</tr>\n",
       "<tr>\n",
       "  <th>Skew:</th>          <td> 1.253</td>  <th>  Prob(JB):          </th> <td>5.19e-134</td>\n",
       "</tr>\n",
       "<tr>\n",
       "  <th>Kurtosis:</th>      <td> 5.737</td>  <th>  Cond. No.          </th> <td>8.25e+17</td> \n",
       "</tr>\n",
       "</table><br/><br/>Notes:<br/>[1] Standard Errors assume that the covariance matrix of the errors is correctly specified.<br/>[2] The smallest eigenvalue is 4.15e-30. This might indicate that there are<br/>strong multicollinearity problems or that the design matrix is singular."
      ],
      "text/plain": [
       "<class 'statsmodels.iolib.summary.Summary'>\n",
       "\"\"\"\n",
       "                            OLS Regression Results                            \n",
       "==============================================================================\n",
       "Dep. Variable:                charges   R-squared:                       0.742\n",
       "Model:                            OLS   Adj. R-squared:                  0.740\n",
       "Method:                 Least Squares   F-statistic:                     380.9\n",
       "Date:                Fri, 07 Jul 2023   Prob (F-statistic):          1.32e-305\n",
       "Time:                        11:32:03   Log-Likelihood:                -10845.\n",
       "No. Observations:                1070   AIC:                         2.171e+04\n",
       "Df Residuals:                    1061   BIC:                         2.175e+04\n",
       "Df Model:                           8                                         \n",
       "Covariance Type:            nonrobust                                         \n",
       "====================================================================================\n",
       "                       coef    std err          t      P>|t|      [0.025      0.975]\n",
       "------------------------------------------------------------------------------------\n",
       "const             -255.3492    486.430     -0.525      0.600   -1209.824     699.125\n",
       "age                256.9757     13.477     19.067      0.000     230.530     283.421\n",
       "bmi                337.0926     32.471     10.381      0.000     273.378     400.807\n",
       "children           425.2788    154.655      2.750      0.006     121.814     728.743\n",
       "region_northeast   395.7479    334.472      1.183      0.237    -260.555    1052.051\n",
       "region_northwest    25.0706    344.485      0.073      0.942    -650.878     701.019\n",
       "region_southeast  -262.1164    373.002     -0.703      0.482    -994.022     469.789\n",
       "region_southwest  -414.0514    351.224     -1.179      0.239   -1103.225     275.122\n",
       "sex_female        -118.3788    306.741     -0.386      0.700    -720.266     483.509\n",
       "sex_male          -136.9704    308.173     -0.444      0.657    -741.669     467.728\n",
       "smoker_no        -1.195e+04    320.386    -37.309      0.000   -1.26e+04   -1.13e+04\n",
       "smoker_yes         1.17e+04    352.808     33.157      0.000     1.1e+04    1.24e+04\n",
       "==============================================================================\n",
       "Omnibus:                      252.330   Durbin-Watson:                   2.085\n",
       "Prob(Omnibus):                  0.000   Jarque-Bera (JB):              613.798\n",
       "Skew:                           1.253   Prob(JB):                    5.19e-134\n",
       "Kurtosis:                       5.737   Cond. No.                     8.25e+17\n",
       "==============================================================================\n",
       "\n",
       "Notes:\n",
       "[1] Standard Errors assume that the covariance matrix of the errors is correctly specified.\n",
       "[2] The smallest eigenvalue is 4.15e-30. This might indicate that there are\n",
       "strong multicollinearity problems or that the design matrix is singular.\n",
       "\"\"\""
      ]
     },
     "execution_count": 118,
     "metadata": {},
     "output_type": "execute_result"
    }
   ],
   "source": [
    "results.summary()"
   ]
  },
  {
   "cell_type": "code",
   "execution_count": 119,
   "metadata": {},
   "outputs": [],
   "source": [
    "poission_model = sm.GLM(Y2,X2, family=sm.families.Poisson())\n",
    "result = poission_model.fit()"
   ]
  },
  {
   "cell_type": "code",
   "execution_count": 120,
   "metadata": {},
   "outputs": [
    {
     "data": {
      "text/html": [
       "<table class=\"simpletable\">\n",
       "<caption>Generalized Linear Model Regression Results</caption>\n",
       "<tr>\n",
       "  <th>Dep. Variable:</th>        <td>charges</td>     <th>  No. Observations:  </th>   <td>  1070</td>   \n",
       "</tr>\n",
       "<tr>\n",
       "  <th>Model:</th>                  <td>GLM</td>       <th>  Df Residuals:      </th>   <td>  1061</td>   \n",
       "</tr>\n",
       "<tr>\n",
       "  <th>Model Family:</th>         <td>Poisson</td>     <th>  Df Model:          </th>   <td>     8</td>   \n",
       "</tr>\n",
       "<tr>\n",
       "  <th>Link Function:</th>          <td>Log</td>       <th>  Scale:             </th>  <td>  1.0000</td>  \n",
       "</tr>\n",
       "<tr>\n",
       "  <th>Method:</th>                <td>IRLS</td>       <th>  Log-Likelihood:    </th> <td>-1.3251e+06</td>\n",
       "</tr>\n",
       "<tr>\n",
       "  <th>Date:</th>            <td>Fri, 07 Jul 2023</td> <th>  Deviance:          </th> <td>2.6384e+06</td> \n",
       "</tr>\n",
       "<tr>\n",
       "  <th>Time:</th>                <td>11:32:04</td>     <th>  Pearson chi2:      </th>  <td>3.31e+06</td>  \n",
       "</tr>\n",
       "<tr>\n",
       "  <th>No. Iterations:</th>          <td>5</td>        <th>  Pseudo R-squ. (CS):</th>   <td> 1.000</td>   \n",
       "</tr>\n",
       "<tr>\n",
       "  <th>Covariance Type:</th>     <td>nonrobust</td>    <th>                     </th>      <td> </td>     \n",
       "</tr>\n",
       "</table>\n",
       "<table class=\"simpletable\">\n",
       "<tr>\n",
       "          <td></td>            <th>coef</th>     <th>std err</th>      <th>z</th>      <th>P>|z|</th>  <th>[0.025</th>    <th>0.975]</th>  \n",
       "</tr>\n",
       "<tr>\n",
       "  <th>const</th>            <td>    3.5888</td> <td>    0.001</td> <td> 5002.465</td> <td> 0.000</td> <td>    3.587</td> <td>    3.590</td>\n",
       "</tr>\n",
       "<tr>\n",
       "  <th>age</th>              <td>    0.0195</td> <td> 1.92e-05</td> <td> 1014.931</td> <td> 0.000</td> <td>    0.019</td> <td>    0.020</td>\n",
       "</tr>\n",
       "<tr>\n",
       "  <th>bmi</th>              <td>    0.0258</td> <td> 4.54e-05</td> <td>  567.864</td> <td> 0.000</td> <td>    0.026</td> <td>    0.026</td>\n",
       "</tr>\n",
       "<tr>\n",
       "  <th>children</th>         <td>    0.0331</td> <td>    0.000</td> <td>  150.402</td> <td> 0.000</td> <td>    0.033</td> <td>    0.034</td>\n",
       "</tr>\n",
       "<tr>\n",
       "  <th>region_northeast</th> <td>    0.9370</td> <td>    0.000</td> <td> 1972.019</td> <td> 0.000</td> <td>    0.936</td> <td>    0.938</td>\n",
       "</tr>\n",
       "<tr>\n",
       "  <th>region_northwest</th> <td>    0.9057</td> <td>    0.000</td> <td> 1820.842</td> <td> 0.000</td> <td>    0.905</td> <td>    0.907</td>\n",
       "</tr>\n",
       "<tr>\n",
       "  <th>region_southeast</th> <td>    0.8670</td> <td>    0.001</td> <td> 1668.653</td> <td> 0.000</td> <td>    0.866</td> <td>    0.868</td>\n",
       "</tr>\n",
       "<tr>\n",
       "  <th>region_southwest</th> <td>    0.8791</td> <td>    0.001</td> <td> 1721.048</td> <td> 0.000</td> <td>    0.878</td> <td>    0.880</td>\n",
       "</tr>\n",
       "<tr>\n",
       "  <th>sex_female</th>       <td>    1.8077</td> <td>    0.000</td> <td> 4145.639</td> <td> 0.000</td> <td>    1.807</td> <td>    1.809</td>\n",
       "</tr>\n",
       "<tr>\n",
       "  <th>sex_male</th>         <td>    1.7811</td> <td>    0.000</td> <td> 3882.302</td> <td> 0.000</td> <td>    1.780</td> <td>    1.782</td>\n",
       "</tr>\n",
       "<tr>\n",
       "  <th>smoker_no</th>        <td>    1.1201</td> <td>    0.000</td> <td> 2451.414</td> <td> 0.000</td> <td>    1.119</td> <td>    1.121</td>\n",
       "</tr>\n",
       "<tr>\n",
       "  <th>smoker_yes</th>       <td>    2.4687</td> <td>    0.000</td> <td> 5630.933</td> <td> 0.000</td> <td>    2.468</td> <td>    2.470</td>\n",
       "</tr>\n",
       "</table>"
      ],
      "text/plain": [
       "<class 'statsmodels.iolib.summary.Summary'>\n",
       "\"\"\"\n",
       "                 Generalized Linear Model Regression Results                  \n",
       "==============================================================================\n",
       "Dep. Variable:                charges   No. Observations:                 1070\n",
       "Model:                            GLM   Df Residuals:                     1061\n",
       "Model Family:                 Poisson   Df Model:                            8\n",
       "Link Function:                    Log   Scale:                          1.0000\n",
       "Method:                          IRLS   Log-Likelihood:            -1.3251e+06\n",
       "Date:                Fri, 07 Jul 2023   Deviance:                   2.6384e+06\n",
       "Time:                        11:32:04   Pearson chi2:                 3.31e+06\n",
       "No. Iterations:                     5   Pseudo R-squ. (CS):              1.000\n",
       "Covariance Type:            nonrobust                                         \n",
       "====================================================================================\n",
       "                       coef    std err          z      P>|z|      [0.025      0.975]\n",
       "------------------------------------------------------------------------------------\n",
       "const                3.5888      0.001   5002.465      0.000       3.587       3.590\n",
       "age                  0.0195   1.92e-05   1014.931      0.000       0.019       0.020\n",
       "bmi                  0.0258   4.54e-05    567.864      0.000       0.026       0.026\n",
       "children             0.0331      0.000    150.402      0.000       0.033       0.034\n",
       "region_northeast     0.9370      0.000   1972.019      0.000       0.936       0.938\n",
       "region_northwest     0.9057      0.000   1820.842      0.000       0.905       0.907\n",
       "region_southeast     0.8670      0.001   1668.653      0.000       0.866       0.868\n",
       "region_southwest     0.8791      0.001   1721.048      0.000       0.878       0.880\n",
       "sex_female           1.8077      0.000   4145.639      0.000       1.807       1.809\n",
       "sex_male             1.7811      0.000   3882.302      0.000       1.780       1.782\n",
       "smoker_no            1.1201      0.000   2451.414      0.000       1.119       1.121\n",
       "smoker_yes           2.4687      0.000   5630.933      0.000       2.468       2.470\n",
       "====================================================================================\n",
       "\"\"\""
      ]
     },
     "execution_count": 120,
     "metadata": {},
     "output_type": "execute_result"
    }
   ],
   "source": [
    "result.summary()\n"
   ]
  },
  {
   "cell_type": "code",
   "execution_count": 121,
   "metadata": {},
   "outputs": [
    {
     "data": {
      "text/plain": [
       "GaussianNB()"
      ]
     },
     "execution_count": 121,
     "metadata": {},
     "output_type": "execute_result"
    }
   ],
   "source": [
    "from sklearn.naive_bayes import GaussianNB\n",
    "clf = GaussianNB()\n",
    "clf.fit(X, Y)"
   ]
  },
  {
   "cell_type": "code",
   "execution_count": null,
   "metadata": {},
   "outputs": [],
   "source": []
  },
  {
   "cell_type": "code",
   "execution_count": 122,
   "metadata": {},
   "outputs": [],
   "source": [
    "vars=pd.DataFrame(clf.var_).T\n",
    "vars.columns=[\"NonDiabeticVariances\",\"DiabeticVariances\"]"
   ]
  },
  {
   "cell_type": "code",
   "execution_count": 123,
   "metadata": {},
   "outputs": [],
   "source": [
    "means=pd.DataFrame(clf.theta_).T\n",
    "means.columns=[\"NonDiabeticMeans\",\"DiabeticMeans\"]\n",
    "nb_data=pd.concat((vars,means),axis=1)\n",
    "nb_data.index=clf.feature_names_in_"
   ]
  },
  {
   "cell_type": "code",
   "execution_count": 124,
   "metadata": {},
   "outputs": [
    {
     "data": {
      "text/html": [
       "<div>\n",
       "<style scoped>\n",
       "    .dataframe tbody tr th:only-of-type {\n",
       "        vertical-align: middle;\n",
       "    }\n",
       "\n",
       "    .dataframe tbody tr th {\n",
       "        vertical-align: top;\n",
       "    }\n",
       "\n",
       "    .dataframe thead th {\n",
       "        text-align: right;\n",
       "    }\n",
       "</style>\n",
       "<table border=\"1\" class=\"dataframe\">\n",
       "  <thead>\n",
       "    <tr style=\"text-align: right;\">\n",
       "      <th></th>\n",
       "      <th>NonDiabeticVariances</th>\n",
       "      <th>DiabeticVariances</th>\n",
       "      <th>NonDiabeticMeans</th>\n",
       "      <th>DiabeticMeans</th>\n",
       "    </tr>\n",
       "  </thead>\n",
       "  <tbody>\n",
       "    <tr>\n",
       "      <th>Pregnancies</th>\n",
       "      <td>8.865787</td>\n",
       "      <td>13.527328</td>\n",
       "      <td>3.315000</td>\n",
       "      <td>4.761682</td>\n",
       "    </tr>\n",
       "    <tr>\n",
       "      <th>Glucose</th>\n",
       "      <td>609.105755</td>\n",
       "      <td>1059.235076</td>\n",
       "      <td>109.852500</td>\n",
       "      <td>141.574766</td>\n",
       "    </tr>\n",
       "    <tr>\n",
       "      <th>BloodPressure</th>\n",
       "      <td>291.712787</td>\n",
       "      <td>418.231123</td>\n",
       "      <td>68.335000</td>\n",
       "      <td>71.514019</td>\n",
       "    </tr>\n",
       "    <tr>\n",
       "      <th>SkinThickness</th>\n",
       "      <td>213.873912</td>\n",
       "      <td>314.108165</td>\n",
       "      <td>19.690000</td>\n",
       "      <td>22.808411</td>\n",
       "    </tr>\n",
       "    <tr>\n",
       "      <th>Insulin</th>\n",
       "      <td>8192.343605</td>\n",
       "      <td>17039.373581</td>\n",
       "      <td>65.737500</td>\n",
       "      <td>102.831776</td>\n",
       "    </tr>\n",
       "    <tr>\n",
       "      <th>BMI</th>\n",
       "      <td>56.316989</td>\n",
       "      <td>55.678971</td>\n",
       "      <td>30.241500</td>\n",
       "      <td>35.210280</td>\n",
       "    </tr>\n",
       "    <tr>\n",
       "      <th>DiabetesPedigreeFunction</th>\n",
       "      <td>0.092974</td>\n",
       "      <td>0.130221</td>\n",
       "      <td>0.437523</td>\n",
       "      <td>0.552019</td>\n",
       "    </tr>\n",
       "    <tr>\n",
       "      <th>Age</th>\n",
       "      <td>134.433787</td>\n",
       "      <td>126.602182</td>\n",
       "      <td>31.285000</td>\n",
       "      <td>37.257009</td>\n",
       "    </tr>\n",
       "  </tbody>\n",
       "</table>\n",
       "</div>"
      ],
      "text/plain": [
       "                          NonDiabeticVariances  DiabeticVariances  \\\n",
       "Pregnancies                           8.865787          13.527328   \n",
       "Glucose                             609.105755        1059.235076   \n",
       "BloodPressure                       291.712787         418.231123   \n",
       "SkinThickness                       213.873912         314.108165   \n",
       "Insulin                            8192.343605       17039.373581   \n",
       "BMI                                  56.316989          55.678971   \n",
       "DiabetesPedigreeFunction              0.092974           0.130221   \n",
       "Age                                 134.433787         126.602182   \n",
       "\n",
       "                          NonDiabeticMeans  DiabeticMeans  \n",
       "Pregnancies                       3.315000       4.761682  \n",
       "Glucose                         109.852500     141.574766  \n",
       "BloodPressure                    68.335000      71.514019  \n",
       "SkinThickness                    19.690000      22.808411  \n",
       "Insulin                          65.737500     102.831776  \n",
       "BMI                              30.241500      35.210280  \n",
       "DiabetesPedigreeFunction          0.437523       0.552019  \n",
       "Age                              31.285000      37.257009  "
      ]
     },
     "execution_count": 124,
     "metadata": {},
     "output_type": "execute_result"
    }
   ],
   "source": [
    "nb_data"
   ]
  },
  {
   "cell_type": "code",
   "execution_count": 221,
   "metadata": {},
   "outputs": [
    {
     "data": {
      "text/plain": [
       "Pregnancies                   7.000\n",
       "Glucose                     159.000\n",
       "BloodPressure                64.000\n",
       "SkinThickness                 0.000\n",
       "Insulin                       0.000\n",
       "BMI                          27.400\n",
       "DiabetesPedigreeFunction      0.294\n",
       "Age                          40.000\n",
       "Outcome                       0.000\n",
       "Name: 44, dtype: float64"
      ]
     },
     "execution_count": 221,
     "metadata": {},
     "output_type": "execute_result"
    }
   ],
   "source": [
    "test.iloc[0,:]"
   ]
  },
  {
   "cell_type": "code",
   "execution_count": 256,
   "metadata": {},
   "outputs": [
    {
     "name": "stdout",
     "output_type": "stream",
     "text": [
      "[0.48406648 0.51593352]\n"
     ]
    }
   ],
   "source": [
    "means = clf.theta_\n",
    "\n",
    "variances = clf.var_\n",
    "\n",
    "priors = clf.class_prior_\n",
    "\n",
    "x = test.iloc[0,:-1].values\n",
    "\n",
    "log_probabilities = np.zeros(len(priors))\n",
    "\n",
    "for i in range(len(priors)):\n",
    "    likelihoods = -0.5 * (np.log(2 * np.pi * variances[i]) + (x - means[i]) ** 2 / variances[i])\n",
    "    log_likelihood = np.sum(likelihoods)\n",
    "    log_prior = np.log(priors[i])\n",
    "    log_probabilities[i] = log_prior + log_likelihood\n",
    "\n",
    "# convert log probabilities back to probabilities\n",
    "probabilities = np.exp(log_probabilities)\n",
    "\n",
    "# normalize the probabilities so they sum to 1\n",
    "probabilities /= np.sum(probabilities)\n",
    "\n",
    "print(probabilities)"
   ]
  },
  {
   "cell_type": "code",
   "execution_count": 243,
   "metadata": {},
   "outputs": [
    {
     "data": {
      "text/plain": [
       "array([[0.48406648, 0.51593352],\n",
       "       [0.49720234, 0.50279766]])"
      ]
     },
     "execution_count": 243,
     "metadata": {},
     "output_type": "execute_result"
    }
   ],
   "source": [
    "clf.predict_proba(test.iloc[0:2,:-1])"
   ]
  },
  {
   "cell_type": "code",
   "execution_count": null,
   "metadata": {},
   "outputs": [],
   "source": []
  }
 ],
 "metadata": {
  "kernelspec": {
   "display_name": "py3",
   "language": "python",
   "name": "python3"
  },
  "language_info": {
   "codemirror_mode": {
    "name": "ipython",
    "version": 3
   },
   "file_extension": ".py",
   "mimetype": "text/x-python",
   "name": "python",
   "nbconvert_exporter": "python",
   "pygments_lexer": "ipython3",
   "version": "3.9.10"
  },
  "orig_nbformat": 4
 },
 "nbformat": 4,
 "nbformat_minor": 2
}
